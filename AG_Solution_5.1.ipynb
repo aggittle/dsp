{
 "cells": [
  {
   "cell_type": "code",
   "execution_count": 23,
   "metadata": {},
   "outputs": [],
   "source": [
    "from scipy import stats"
   ]
  },
  {
   "cell_type": "code",
   "execution_count": 24,
   "metadata": {},
   "outputs": [],
   "source": [
    "upper = 185.4 # 6'1\" = 185.42\n",
    "lower = 177.8 # 5'10\" = 177.8cm\n"
   ]
  },
  {
   "cell_type": "code",
   "execution_count": 25,
   "metadata": {},
   "outputs": [
    {
     "data": {
      "text/plain": [
       "0.3420946829459531"
      ]
     },
     "execution_count": 25,
     "metadata": {},
     "output_type": "execute_result"
    }
   ],
   "source": [
    "percentile_upper = stats.norm.cdf(upper , loc=178, scale= 7.7) # Percentage of males under 6'1\"\n",
    "percentile_lower = stats.norm.cdf(lower , loc=178, scale= 7.7) # Percentage of males under 5'10\"\n",
    "bmg_eligible_percentage = percentile_upper - percentile_lower\n",
    "bmg_eligible_percentage"
   ]
  },
  {
   "cell_type": "markdown",
   "metadata": {},
   "source": [
    "The percentage of U.S. males between 5'10\" and 6'1\" is roughly 34% "
   ]
  }
 ],
 "metadata": {
  "kernelspec": {
   "display_name": "Python 3",
   "language": "python",
   "name": "python3"
  },
  "language_info": {
   "codemirror_mode": {
    "name": "ipython",
    "version": 3
   },
   "file_extension": ".py",
   "mimetype": "text/x-python",
   "name": "python",
   "nbconvert_exporter": "python",
   "pygments_lexer": "ipython3",
   "version": "3.7.0"
  }
 },
 "nbformat": 4,
 "nbformat_minor": 2
}
